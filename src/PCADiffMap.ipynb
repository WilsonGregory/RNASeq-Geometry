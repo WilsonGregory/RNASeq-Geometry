{
 "cells": [
  {
   "cell_type": "code",
   "execution_count": 57,
   "metadata": {},
   "outputs": [],
   "source": [
    "import numpy as np\n",
    "import matplotlib.pyplot as plt\n",
    "from sklearn.decomposition import PCA\n",
    "from numpy.linalg import eig\n",
    "from pydiffmap import diffusion_map"
   ]
  },
  {
   "cell_type": "code",
   "execution_count": 95,
   "metadata": {},
   "outputs": [],
   "source": [
    "x=np.random.multivariate_normal([0,0],[[5,2.5],[2.5,3]],200)\n",
    "y=np.random.multivariate_normal([5.5,-2],[[5,2.5],[2.5,3]],200)"
   ]
  },
  {
   "cell_type": "code",
   "execution_count": 96,
   "metadata": {},
   "outputs": [
    {
     "data": {
      "text/plain": [
       "<matplotlib.collections.PathCollection at 0x7fea1999cdf0>"
      ]
     },
     "execution_count": 96,
     "metadata": {},
     "output_type": "execute_result"
    },
    {
     "data": {
      "image/png": "[encoded data removed]",
      "text/plain": [
       "<Figure size 432x288 with 1 Axes>"
      ]
     },
     "metadata": {
      "needs_background": "light"
     },
     "output_type": "display_data"
    }
   ],
   "source": [
    "plt.scatter(x[:,0],x[:,1])\n",
    "plt.scatter(y[:,0],y[:,1])"
   ]
  },
  {
   "cell_type": "code",
   "execution_count": 97,
   "metadata": {},
   "outputs": [],
   "source": [
    "data = np.array([x.tolist(),y.tolist()])"
   ]
  },
  {
   "cell_type": "code",
   "execution_count": 98,
   "metadata": {},
   "outputs": [
    {
     "data": {
      "text/plain": [
       "array([[-1.71389250e+00, -2.07211276e+00],\n",
       "       [ 2.93460319e-01, -4.42000368e-01],\n",
       "       [-4.05196996e+00, -1.12286625e+00],\n",
       "       [ 8.52590069e-01,  1.11794741e+00],\n",
       "       [-2.21838974e+00, -8.93962544e-01],\n",
       "       [-2.47822743e-01, -1.27318925e+00],\n",
       "       [-4.68999927e-01,  2.83412228e+00],\n",
       "       [-1.21705160e+00,  7.87435153e-01],\n",
       "       [ 8.06286194e-01, -3.56678027e-01],\n",
       "       [-1.09299435e+00, -3.08625768e+00],\n",
       "       [-3.89403452e+00, -3.34620780e+00],\n",
       "       [ 1.96548324e-01, -2.57207975e+00],\n",
       "       [ 5.53806161e-01, -5.36251304e-02],\n",
       "       [ 1.72420578e+00,  5.83686508e-01],\n",
       "       [-3.71607279e-01, -4.36099806e-01],\n",
       "       [ 1.63399167e+00, -6.85888020e-01],\n",
       "       [-4.48708676e+00, -2.92857609e+00],\n",
       "       [ 7.95437497e-01,  1.16504074e+00],\n",
       "       [-2.01263834e+00, -8.09212013e-01],\n",
       "       [ 2.47681115e+00,  6.88872437e-01],\n",
       "       [-8.49843085e-01, -2.73455260e-01],\n",
       "       [ 1.54163395e+00,  2.07278028e+00],\n",
       "       [ 1.60688180e+00,  4.38098037e+00],\n",
       "       [ 1.15398543e+00,  1.65667645e-01],\n",
       "       [-1.89234903e+00, -1.19216958e-01],\n",
       "       [ 6.64020315e-01,  9.91825128e-01],\n",
       "       [ 6.70142558e-01,  3.69597491e-01],\n",
       "       [-2.51529477e+00,  5.64187543e-01],\n",
       "       [ 3.98894982e-01,  3.30938987e+00],\n",
       "       [-1.81680048e+00, -2.40261623e+00],\n",
       "       [-1.22857989e+00,  1.04787665e+00],\n",
       "       [-6.24977401e-01, -3.75518714e-01],\n",
       "       [ 2.80737537e-01,  4.80126748e-01],\n",
       "       [ 1.72669963e+00,  3.38172677e+00],\n",
       "       [-1.00798545e+00,  3.13840197e-01],\n",
       "       [-7.31232527e-01,  2.21956620e-02],\n",
       "       [ 1.64481928e-01,  7.23994353e-01],\n",
       "       [-3.94088240e+00, -3.04262476e+00],\n",
       "       [ 2.89836308e+00,  5.96244937e-01],\n",
       "       [-1.17118159e-01,  1.87349530e-01],\n",
       "       [ 7.68367276e-01,  3.15685472e-01],\n",
       "       [-1.62585690e+00,  2.22358316e-01],\n",
       "       [ 2.53644666e+00,  3.12191524e+00],\n",
       "       [ 2.17641150e+00,  2.23648454e+00],\n",
       "       [ 3.50940761e-01, -1.59817023e+00],\n",
       "       [-2.36429530e+00, -1.81315854e+00],\n",
       "       [ 1.57192792e+00, -1.90225039e-02],\n",
       "       [ 1.24983003e+00,  9.79507970e-01],\n",
       "       [-2.24759062e+00, -1.95943750e-01],\n",
       "       [-1.58105197e+00, -8.71208061e-01],\n",
       "       [ 6.58830212e-01, -1.25771995e+00],\n",
       "       [-5.88892155e-01, -1.63483881e+00],\n",
       "       [ 3.28032909e+00,  1.08236506e+00],\n",
       "       [ 3.83742338e+00,  1.89564310e+00],\n",
       "       [-2.79138407e+00, -2.14916291e+00],\n",
       "       [ 1.55793789e+00,  1.67273697e+00],\n",
       "       [-2.62108571e+00, -1.59555885e+00],\n",
       "       [ 1.04689460e+00, -1.73703164e+00],\n",
       "       [-6.68432622e-01,  5.48918952e-01],\n",
       "       [ 4.19251627e+00,  2.54397342e+00],\n",
       "       [ 1.69274653e+00, -6.95153498e-01],\n",
       "       [-7.19824907e-01,  1.77623081e+00],\n",
       "       [ 1.96843651e+00,  1.22049764e+00],\n",
       "       [ 6.19175348e-01, -1.12919846e+00],\n",
       "       [ 1.19436158e+00,  2.15961414e+00],\n",
       "       [-2.33519781e+00, -2.63786473e+00],\n",
       "       [-9.82129130e-01, -1.73608263e+00],\n",
       "       [-1.45318566e-01,  9.38090339e-01],\n",
       "       [-2.08108657e+00,  1.61033401e+00],\n",
       "       [ 6.06074022e-01, -8.66334754e-01],\n",
       "       [ 8.13446817e-01,  1.56633324e+00],\n",
       "       [ 2.09013574e+00,  4.38708241e+00],\n",
       "       [-5.96919475e-02,  4.80336125e-01],\n",
       "       [-3.16707809e+00, -1.29855465e+00],\n",
       "       [-5.29831777e-01, -2.74014454e-01],\n",
       "       [-2.03680501e+00, -4.06468594e-02],\n",
       "       [-1.42344366e+00, -1.93415933e+00],\n",
       "       [-7.67915446e-01, -1.33599216e+00],\n",
       "       [ 1.20135519e+00,  1.61296663e+00],\n",
       "       [-2.78110598e+00,  9.25973898e-01],\n",
       "       [ 1.96241175e+00,  1.08500298e+00],\n",
       "       [ 2.61728132e+00,  1.50612967e+00],\n",
       "       [-3.08064751e+00, -2.86292761e+00],\n",
       "       [ 1.47616817e-01,  2.25771798e+00],\n",
       "       [ 3.01797018e-01, -1.45345371e+00],\n",
       "       [ 6.27871942e-01,  1.04060498e+00],\n",
       "       [-7.04519391e-01, -4.12899937e-01],\n",
       "       [-1.26827129e+00, -1.77886270e+00],\n",
       "       [-3.81855906e-02, -8.40286245e-01],\n",
       "       [ 3.00384726e+00,  8.31467421e-01],\n",
       "       [-2.82468782e+00, -2.91602789e+00],\n",
       "       [-3.28209219e-01, -2.12792443e-01],\n",
       "       [ 2.35526923e+00,  1.36824269e+00],\n",
       "       [ 1.07428844e-01,  2.03394295e+00],\n",
       "       [ 8.08066990e-01, -2.67966261e-01],\n",
       "       [-4.03571637e+00, -9.59738583e-01],\n",
       "       [ 5.38757844e-01, -1.74586222e+00],\n",
       "       [ 6.02192762e-01, -6.41926668e-02],\n",
       "       [-1.03559527e+00,  7.60345642e-01],\n",
       "       [ 3.47703168e+00,  2.11917239e+00],\n",
       "       [ 2.65581883e+00,  5.88123617e-01],\n",
       "       [-3.97325160e+00, -3.31550139e+00],\n",
       "       [-3.35437941e+00,  7.24818326e-01],\n",
       "       [-2.12835182e+00, -2.49436778e+00],\n",
       "       [ 2.20890031e+00,  1.80425581e-01],\n",
       "       [ 6.82226235e-01,  2.33470560e+00],\n",
       "       [ 2.15906088e+00,  1.81337765e-01],\n",
       "       [-1.09700385e+00, -4.94153605e-03],\n",
       "       [-2.00687598e+00, -5.46997013e-01],\n",
       "       [-1.61274260e+00, -6.14183530e-01],\n",
       "       [ 4.24945481e-01,  2.45737001e+00],\n",
       "       [ 1.59922015e+00, -1.30832803e+00],\n",
       "       [-2.12447646e+00,  1.37613978e+00],\n",
       "       [-2.03143608e+00, -2.19652619e+00],\n",
       "       [-1.25274348e+00, -1.92614915e+00],\n",
       "       [ 5.61255164e-01, -5.53882227e-01],\n",
       "       [-1.47230706e+00, -1.22522065e+00],\n",
       "       [ 1.27117191e+00,  1.54423888e+00],\n",
       "       [ 8.10024503e-01,  1.28603172e+00],\n",
       "       [-1.51280123e+00,  6.13163800e-01],\n",
       "       [ 7.25807522e-01, -9.07175527e-01],\n",
       "       [ 1.26562683e+00,  8.50226391e-01],\n",
       "       [ 2.47830151e+00,  1.04601981e+00],\n",
       "       [ 3.21859987e+00, -4.85579619e-01],\n",
       "       [-5.30831010e-01, -9.63545197e-01],\n",
       "       [-2.96753613e-01, -1.03708418e+00],\n",
       "       [ 1.53299819e+00, -1.77029693e+00],\n",
       "       [-1.50025992e+00,  3.11147938e-01],\n",
       "       [-1.12827804e-01,  1.20994907e+00],\n",
       "       [ 9.64248377e-01, -7.19505637e-01],\n",
       "       [-1.26349597e+00, -1.26521436e+00],\n",
       "       [ 2.59500114e+00,  2.15344825e-01],\n",
       "       [ 3.07344528e+00,  2.02954438e+00],\n",
       "       [-4.19281450e+00, -8.79045317e-01],\n",
       "       [-2.80008001e+00, -1.04062338e+00],\n",
       "       [-2.07235353e+00,  1.19503516e-01],\n",
       "       [ 5.85992279e-02,  7.82882482e-01],\n",
       "       [-1.30595311e-01, -2.21257634e+00],\n",
       "       [ 4.48812116e+00,  2.04255179e+00],\n",
       "       [ 6.28407927e+00,  1.55025429e+00],\n",
       "       [-1.61014723e+00, -6.58655960e-01],\n",
       "       [-1.52420363e+00,  3.27036295e-01],\n",
       "       [ 2.26490792e+00, -1.55930957e+00],\n",
       "       [ 5.10292387e-01,  3.57761827e-01],\n",
       "       [ 2.50800986e+00,  5.79231277e-01],\n",
       "       [ 7.41409535e-01,  7.50932628e-01],\n",
       "       [-1.63522311e+00, -3.18789017e+00],\n",
       "       [-4.06672998e+00, -3.27644486e+00],\n",
       "       [-4.77434832e-01,  6.48714871e-01],\n",
       "       [-1.34224746e+00, -9.85925474e-01],\n",
       "       [ 1.99422145e+00, -2.03823114e+00],\n",
       "       [-9.42085075e-01, -3.07837873e+00],\n",
       "       [-1.02678797e+00,  1.86034868e+00],\n",
       "       [-2.69869245e+00, -7.52979186e-01],\n",
       "       [-9.63362526e-01, -1.29777907e+00],\n",
       "       [ 1.20444176e+00,  2.72938849e+00],\n",
       "       [-2.51012001e-01, -1.05610418e+00],\n",
       "       [-2.09500697e+00, -1.32509571e+00],\n",
       "       [ 1.12594285e+00,  1.14126674e+00],\n",
       "       [ 1.15398853e+00, -1.05168605e+00],\n",
       "       [-4.71868698e-01,  7.31412101e-01],\n",
       "       [-1.52135997e+00, -2.63242440e+00],\n",
       "       [ 3.35423446e+00,  4.18692239e-01],\n",
       "       [-4.57816485e+00, -4.30648770e+00],\n",
       "       [-9.89960492e-01, -2.47715259e-01],\n",
       "       [ 1.71020729e+00,  3.33865152e+00],\n",
       "       [-1.37126000e+00, -5.09310252e-01],\n",
       "       [-9.70592396e-01, -1.64180053e+00],\n",
       "       [ 1.13078750e+00,  2.72105663e+00],\n",
       "       [-4.00458045e+00, -2.73660749e+00],\n",
       "       [-3.59280398e-01, -1.81596109e+00],\n",
       "       [-3.89417255e+00,  3.26733464e-01],\n",
       "       [-2.37894192e+00, -2.54208796e+00],\n",
       "       [ 1.16840134e+00,  2.03711935e-01],\n",
       "       [-3.82469411e+00, -4.71382857e-01],\n",
       "       [ 3.20907830e+00,  2.84385230e+00],\n",
       "       [-1.76219658e+00,  6.64726292e-01],\n",
       "       [ 1.40470992e+00,  8.58176217e-01],\n",
       "       [-3.24101083e+00, -2.33614192e+00],\n",
       "       [-3.35661443e+00, -2.91006018e+00],\n",
       "       [ 1.77253326e+00, -1.54965016e-01],\n",
       "       [ 8.95813952e-01, -2.25415733e-01],\n",
       "       [ 9.25820466e-01, -4.62468295e-02],\n",
       "       [-1.43702031e+00,  2.16292514e+00],\n",
       "       [ 4.22155285e+00,  2.63947235e+00],\n",
       "       [ 1.08052915e-01,  5.90204600e-01],\n",
       "       [ 1.71814730e-01, -3.01134224e-01],\n",
       "       [ 9.46253874e-01, -2.51501494e+00],\n",
       "       [-5.07926784e+00, -2.32486946e+00],\n",
       "       [-5.05474523e-01, -9.36450024e-01],\n",
       "       [-1.50334834e+00, -1.37830630e+00],\n",
       "       [ 2.13824481e+00,  2.63606320e+00],\n",
       "       [ 3.31411952e+00,  3.67160760e+00],\n",
       "       [-2.78881735e+00, -1.75080133e+00],\n",
       "       [ 1.76007236e+00,  8.88702399e-01],\n",
       "       [ 1.71330449e+00,  2.15989711e+00],\n",
       "       [-3.73396274e-01, -3.03712939e+00],\n",
       "       [ 8.64597746e-01,  1.65178779e+00],\n",
       "       [ 3.90934401e-01,  4.62119158e-01],\n",
       "       [-1.71379244e+00, -1.23177256e+00]])"
      ]
     },
     "execution_count": 98,
     "metadata": {},
     "output_type": "execute_result"
    }
   ],
   "source": [
    "data[0,:]"
   ]
  },
  {
   "cell_type": "code",
   "execution_count": 99,
   "metadata": {},
   "outputs": [],
   "source": [
    "dataX = np.concatenate((x[:,0],y[:,0])) \n",
    "dataY = np.concatenate((x[:,1],y[:,1])) \n",
    "dataXC = dataX - np.mean(dataX)\n",
    "dataYC= dataY - np.mean(dataY)\n",
    "data=np.array([dataX.tolist(),dataY.tolist()])"
   ]
  },
  {
   "cell_type": "code",
   "execution_count": 100,
   "metadata": {},
   "outputs": [],
   "source": [
    "m = eig(np.cov(data))[1][:,0][1]/eig(np.cov(data))[1][:,0][0]\n",
    "m1 = eig(np.cov(data))[1][:,1][1]/eig(np.cov(data))[1][:,1][0]"
   ]
  },
  {
   "cell_type": "code",
   "execution_count": 102,
   "metadata": {},
   "outputs": [
    {
     "data": {
      "text/plain": [
       "Text(0.5, 1.0, 'PCA')"
      ]
     },
     "execution_count": 102,
     "metadata": {},
     "output_type": "execute_result"
    },
    {
     "data": {
      "image/png": "[encoded data removed]",
      "text/plain": [
       "<Figure size 432x288 with 1 Axes>"
      ]
     },
     "metadata": {
      "needs_background": "light"
     },
     "output_type": "display_data"
    }
   ],
   "source": [
    "fig = plt.figure()\n",
    "ax = plt.axes()\n",
    "plt.scatter(dataXC[0:199],dataYC[0:199])\n",
    "plt.scatter(dataXC[200:399],dataYC[200:399])\n",
    "x = np.linspace(-8, 8, 1000)\n",
    "x1 = np.linspace(-.5, .5, 1000)\n",
    "x2 = np.linspace(-8, 8, 1000)\n",
    "ax.plot(x, m*x,c = 'g');\n",
    "ax.plot(x1, m1*x1,c = 'r');\n",
    "plt.title('PCA')"
   ]
  },
  {
   "cell_type": "code",
   "execution_count": 104,
   "metadata": {},
   "outputs": [
    {
     "data": {
      "text/plain": [
       "array([ 0.99767276, -0.06818402])"
      ]
     },
     "execution_count": 104,
     "metadata": {},
     "output_type": "execute_result"
    }
   ],
   "source": [
    "eig(np.cov(data))[1][:,0]"
   ]
  },
  {
   "cell_type": "code",
   "execution_count": 115,
   "metadata": {},
   "outputs": [],
   "source": [
    "proj1 = np.dot(data.T[0:200],eig(np.cov(data))[1][:,0])\n",
    "proj2 = np.dot(data.T[200:400],eig(np.cov(data))[1][:,0])"
   ]
  },
  {
   "cell_type": "code",
   "execution_count": 117,
   "metadata": {},
   "outputs": [
    {
     "data": {
      "text/plain": [
       "Text(0.5, 1.0, 'PCA projection onto principle component')"
      ]
     },
     "execution_count": 117,
     "metadata": {},
     "output_type": "execute_result"
    },
    {
     "data": {
      "image/png": "[encoded data removed]",
      "text/plain": [
       "<Figure size 432x288 with 1 Axes>"
      ]
     },
     "metadata": {
      "needs_background": "light"
     },
     "output_type": "display_data"
    }
   ],
   "source": [
    "plt.scatter(proj1,np.ones(200),marker='o', s= 2)\n",
    "plt.scatter(proj2,np.ones(200),marker='o', s=2)\n",
    "plt.title('PCA projection onto principle component')"
   ]
  },
  {
   "cell_type": "code",
   "execution_count": null,
   "metadata": {},
   "outputs": [],
   "source": []
  },
  {
   "cell_type": "code",
   "execution_count": null,
   "metadata": {},
   "outputs": [],
   "source": [
    "#diffusion"
   ]
  },
  {
   "cell_type": "code",
   "execution_count": 118,
   "metadata": {},
   "outputs": [],
   "source": [
    "mydmap = diffusion_map.DiffusionMap.from_sklearn(n_evecs = 2, epsilon = 1.0, alpha = 0.5, k=20)"
   ]
  },
  {
   "cell_type": "code",
   "execution_count": 119,
   "metadata": {},
   "outputs": [
    {
     "data": {
      "text/plain": [
       "<pydiffmap.diffusion_map.DiffusionMap at 0x7fea1937cb80>"
      ]
     },
     "execution_count": 119,
     "metadata": {},
     "output_type": "execute_result"
    }
   ],
   "source": [
    "mydmap.fit(data.T)"
   ]
  },
  {
   "cell_type": "code",
   "execution_count": 120,
   "metadata": {},
   "outputs": [],
   "source": [
    "dmap = mydmap.fit_transform(data.T)"
   ]
  },
  {
   "cell_type": "code",
   "execution_count": 122,
   "metadata": {},
   "outputs": [
    {
     "data": {
      "text/plain": [
       "Text(0, 0.5, 'eig 2')"
      ]
     },
     "execution_count": 122,
     "metadata": {},
     "output_type": "execute_result"
    },
    {
     "data": {
      "image/png": "[encoded data removed]",
      "text/plain": [
       "<Figure size 432x288 with 1 Axes>"
      ]
     },
     "metadata": {
      "needs_background": "light"
     },
     "output_type": "display_data"
    }
   ],
   "source": [
    "plt.scatter(dmap[:,0][0:200],dmap[:,1][0:200])\n",
    "plt.scatter(dmap[:,0][200:400],dmap[:,1][200:400])\n",
    "plt.title('Diffusion Mapping')\n",
    "plt.xlabel('eig 1')\n",
    "plt.ylabel('eig 2')"
   ]
  },
  {
   "cell_type": "code",
   "execution_count": 123,
   "metadata": {},
   "outputs": [],
   "source": [
    "mydmap = diffusion_map.DiffusionMap.from_sklearn(n_evecs = 1, epsilon = 1.0, alpha = 0.5, k=20)\n",
    "mydmap.fit(data.T)\n",
    "dmap = mydmap.fit_transform(data.T)"
   ]
  },
  {
   "cell_type": "code",
   "execution_count": 127,
   "metadata": {},
   "outputs": [
    {
     "data": {
      "text/plain": [
       "Text(0.5, 1.0, 'Diff Map on first eigenvector')"
      ]
     },
     "execution_count": 127,
     "metadata": {},
     "output_type": "execute_result"
    },
    {
     "data": {
      "image/png": "[encoded data removed]",
      "text/plain": [
       "<Figure size 432x288 with 1 Axes>"
      ]
     },
     "metadata": {
      "needs_background": "light"
     },
     "output_type": "display_data"
    }
   ],
   "source": [
    "plt.scatter(dmap[0:200],np.ones(200),marker='o', s= 2)\n",
    "plt.scatter(dmap[200:400],np.ones(200),marker='o', s=2)\n",
    "plt.title('Diff Map on first eigenvector')"
   ]
  },
  {
   "cell_type": "code",
   "execution_count": null,
   "metadata": {},
   "outputs": [],
   "source": []
  }
 ],
 "metadata": {
  "kernelspec": {
   "display_name": "Python 3",
   "language": "python",
   "name": "python3"
  },
  "language_info": {
   "codemirror_mode": {
    "name": "ipython",
    "version": 3
   },
   "file_extension": ".py",
   "mimetype": "text/x-python",
   "name": "python",
   "nbconvert_exporter": "python",
   "pygments_lexer": "ipython3",
   "version": "3.8.3"
  }
 },
 "nbformat": 4,
 "nbformat_minor": 4
}
